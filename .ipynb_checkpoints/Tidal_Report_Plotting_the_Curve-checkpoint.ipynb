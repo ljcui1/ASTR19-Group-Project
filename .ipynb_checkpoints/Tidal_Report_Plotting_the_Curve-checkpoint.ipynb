{
 "cells": [
  {
   "cell_type": "markdown",
   "id": "df72cf5b-c79c-4b24-a950-1cc76882b3e2",
   "metadata": {},
   "source": [
    "# Plotting Data from given data file\n",
    "## -model with data\n",
    "## -histogram of residuals\n",
    "## -histogram of residulas with the outlier"
   ]
  },
  {
   "cell_type": "code",
   "execution_count": null,
   "id": "0a4efb9f-7d2f-44a9-8520-60601e64e977",
   "metadata": {},
   "outputs": [],
   "source": [
    "import numpy as np\n",
    "import matplotlib.pyplot as plt\n",
    "from scipy import optimize\n",
    "from scipy import interpolate\n",
    "%matplotlib inline"
   ]
  },
  {
   "cell_type": "code",
   "execution_count": null,
   "id": "5b2d8645-84ce-41b4-9650-3cdb9e2ce51c",
   "metadata": {},
   "outputs": [],
   "source": [
    "#load data\n",
    "day, time, height_ft = np.loadtxt(\"ASTR19_F23_group_project_data.txt\", skiprows = 3, unpack = True, usecols = (1, 2, 3))\n",
    "\n",
    "#oscillatory functions\n",
    "def intra(x, y, error):\n",
    "    \n",
    "def inter(x, y, error):\n",
    "    "
   ]
  }
 ],
 "metadata": {
  "kernelspec": {
   "display_name": "Python 3 (ipykernel)",
   "language": "python",
   "name": "python3"
  },
  "language_info": {
   "codemirror_mode": {
    "name": "ipython",
    "version": 3
   },
   "file_extension": ".py",
   "mimetype": "text/x-python",
   "name": "python",
   "nbconvert_exporter": "python",
   "pygments_lexer": "ipython3",
   "version": "3.12.1"
  }
 },
 "nbformat": 4,
 "nbformat_minor": 5
}
