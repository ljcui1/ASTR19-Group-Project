{
 "cells": [
  {
   "cell_type": "markdown",
   "id": "df72cf5b-c79c-4b24-a950-1cc76882b3e2",
   "metadata": {},
   "source": [
    "# Plotting Data from given data file\n",
    "## -model with data\n",
    "## -histogram of residuals\n",
    "## -histogram of residulas with the outlier"
   ]
  },
  {
   "cell_type": "code",
   "execution_count": 1,
   "id": "0a4efb9f-7d2f-44a9-8520-60601e64e977",
   "metadata": {},
   "outputs": [],
   "source": [
    "import numpy as np\n",
    "import matplotlib.pyplot as plt\n",
    "from scipy import optimize\n",
    "from scipy import interpolate\n",
    "%matplotlib inline"
   ]
  },
  {
   "cell_type": "code",
   "execution_count": 2,
   "id": "5b2d8645-84ce-41b4-9650-3cdb9e2ce51c",
   "metadata": {},
   "outputs": [],
   "source": [
    "#Lia did part 1 + 2.5 (no model) 2/23/2024\n",
    "#load data\n",
    "data = np.loadtxt(\"ASTR19_F23_group_project_data.txt\", dtype = 'str', skiprows = 3)\n",
    "\n",
    "#extracting time info\n",
    "days = data[:, 0].astype(int)\n",
    "time_as_strings = data[:, 1]\n",
    "\n",
    "#time in minutes\n",
    "times = np.array([int(time.split(':')[0]) * 60 + int(time.split(':')[1]) for time in time_as_strings])\n",
    "time = (times / 60) + (days - 1) * 24\n",
    "\n",
    "#tide data\n",
    "t_sample = data[:, 2].astype(float)\n",
    "x = np.arange(8, 984, 6.2)\n",
    "tides = np.array(t_sample)\n",
    "\n",
    "#error value\n",
    "error = 0.25"
   ]
  },
  {
   "cell_type": "code",
   "execution_count": 1,
   "id": "3631a3d1-9623-40a8-a337-b457aad17a60",
   "metadata": {},
   "outputs": [
    {
     "ename": "NameError",
     "evalue": "name 'np' is not defined",
     "output_type": "error",
     "traceback": [
      "\u001b[1;31m---------------------------------------------------------------------------\u001b[0m",
      "\u001b[1;31mNameError\u001b[0m                                 Traceback (most recent call last)",
      "Cell \u001b[1;32mIn[1], line 3\u001b[0m\n\u001b[0;32m      1\u001b[0m \u001b[38;5;66;03m#Ela did part 2 2/25/2024\u001b[39;00m\n\u001b[0;32m      2\u001b[0m \u001b[38;5;66;03m#curve fit guess\u001b[39;00m\n\u001b[1;32m----> 3\u001b[0m guess \u001b[38;5;241m=\u001b[39m [\u001b[43mnp\u001b[49m\u001b[38;5;241m.\u001b[39mmax(tides) \u001b[38;5;241m-\u001b[39m np\u001b[38;5;241m.\u001b[39mmin(tides), \u001b[38;5;241m1\u001b[39m\u001b[38;5;241m/\u001b[39m\u001b[38;5;241m24\u001b[39m, \u001b[38;5;241m0\u001b[39m, np\u001b[38;5;241m.\u001b[39mmean(tides), (np\u001b[38;5;241m.\u001b[39mmax(tides) \u001b[38;5;241m-\u001b[39m np\u001b[38;5;241m.\u001b[39mmin(tides))\u001b[38;5;241m/\u001b[39m\u001b[38;5;241m2\u001b[39m, \u001b[38;5;241m1\u001b[39m\u001b[38;5;241m/\u001b[39m(\u001b[38;5;241m35\u001b[39m\u001b[38;5;241m*\u001b[39m\u001b[38;5;241m14\u001b[39m), \u001b[38;5;241m0\u001b[39m, np\u001b[38;5;241m.\u001b[39mmean(tides)\u001b[38;5;241m/\u001b[39m\u001b[38;5;241m2\u001b[39m]\n\u001b[0;32m      5\u001b[0m \u001b[38;5;66;03m#test guess\u001b[39;00m\n\u001b[0;32m      6\u001b[0m guess2 \u001b[38;5;241m=\u001b[39m [(np\u001b[38;5;241m.\u001b[39mmax(tides) \u001b[38;5;241m-\u001b[39m np\u001b[38;5;241m.\u001b[39mmin(tides))\u001b[38;5;241m/\u001b[39m\u001b[38;5;241m1.5\u001b[39m, \u001b[38;5;241m1\u001b[39m\u001b[38;5;241m/\u001b[39m\u001b[38;5;241m24.5\u001b[39m, \u001b[38;5;241m-\u001b[39m\u001b[38;5;241m5\u001b[39m, np\u001b[38;5;241m.\u001b[39mmean(tides)\u001b[38;5;241m/\u001b[39m\u001b[38;5;241m2\u001b[39m, (np\u001b[38;5;241m.\u001b[39mmax(tides) \u001b[38;5;241m-\u001b[39m np\u001b[38;5;241m.\u001b[39mmin(tides)), \u001b[38;5;241m1\u001b[39m\u001b[38;5;241m/\u001b[39m(\u001b[38;5;241m35\u001b[39m\u001b[38;5;241m*\u001b[39m\u001b[38;5;241m14\u001b[39m), \u001b[38;5;241m1\u001b[39m, np\u001b[38;5;241m.\u001b[39mmean(tides)]\n",
      "\u001b[1;31mNameError\u001b[0m: name 'np' is not defined"
     ]
    }
   ],
   "source": [
    "#Ela did part 2 2/25/2024\n",
    "#curve fit guess\n",
    "guess = [np.max(tides) - np.min(tides), 1/24, 0, np.mean(tides), (np.max(tides) - np.min(tides))/2, 1/(35*14), 0, np.mean(tides)/2]\n",
    "\n",
    "#test guess\n",
    "guess2 = [(np.max(tides) - np.min(tides))/1.5, 1/24.5, -5, np.mean(tides)/2, (np.max(tides) - np.min(tides)), 1/(35*14), 1, np.mean(tides)]\n",
    "\n",
    "#oscillatory function\n",
    "def osc_func(time, amp_1, freq_1, pshift_1, offset_1, amp_2, freq_2, pshift_2, offset_2):\n",
    "    return (amp_1 * np.sin(2 * np.pi * freq_1 * time + pshift_1) + offset_1) * (amp_2 * np.sin(2 * np.pi * freq_2 * time + pshift_2) + offset_2)\n",
    "\n",
    "y_err = np.full_like(tides, error)\n",
    "\n",
    "#fit data\n",
    "params, params_cov = optimize.curve_fit(osc_func, time, tides, p0 = guess2, sigma = y_err)\n",
    "\n",
    "#retrieve the fitted parameters from the result\n",
    "amp_1_fit, freq_1_fit, pshift_1_fit, offset_1_fit, amp_2_fit, freq_2_fit, pshift_2_fit, offset_2_fit = params\n",
    "\n",
    "fit_tides = osc_func(time, *params)\n",
    "\n",
    "plt.figure()\n",
    "plt.plot(time, tides, label = \"Tide Data\", color = \"blue\")\n",
    "plt.plot(time, fit_tides, label = \"Curve Fit Line\", color = \"red\")\n",
    "plt.errorbar(time, tides, yerr = .25, fmt = \".c\")\n",
    "plt.ylim(min(tides) - 1, max(tides) + 1)\n",
    "plt.xlabel(\"time (starting at hour 0)\")\n",
    "plt.ylabel(\"tide height (feet)\")\n",
    "plt.legend()\n",
    "plt.title(\"Tide Height vs Time\")\n",
    "plt.savefig(\"model.pdf\", bbox_inches = \"tight\", dpi = 400)"
   ]
  },
  {
   "cell_type": "markdown",
   "id": "2cfa1173-f213-4dfd-b96a-50a8f9a7b8fe",
   "metadata": {},
   "source": [
    "To help curve_fit() function we made an educated guess about these parameters (p0):\n",
    "\n",
    "Amplitude a: Look at the range of your y data. The amplitude is roughly half the difference between the maximum and minimum values of your y data.\n",
    "Frequency-related parameter b: If you know the approximate period of your data, you can estimate b.\n",
    "Phase shift c: This is often the trickiest to estimate. A default starting guess is often 0.\n",
    "Vertical shift or offset d: This can be approximated by the mean of your y data."
   ]
  },
  {
   "cell_type": "code",
   "execution_count": 2,
   "id": "0c9f686c-6c64-454c-bbb8-f67756ccd1b0",
   "metadata": {},
   "outputs": [
    {
     "ename": "NameError",
     "evalue": "name 'tides' is not defined",
     "output_type": "error",
     "traceback": [
      "\u001b[1;31m---------------------------------------------------------------------------\u001b[0m",
      "\u001b[1;31mNameError\u001b[0m                                 Traceback (most recent call last)",
      "Cell \u001b[1;32mIn[2], line 4\u001b[0m\n\u001b[0;32m      1\u001b[0m \u001b[38;5;66;03m#Shaney did part 3 on 2/28/2024\u001b[39;00m\n\u001b[0;32m      2\u001b[0m \n\u001b[0;32m      3\u001b[0m \u001b[38;5;66;03m#getting residuals of tide data\u001b[39;00m\n\u001b[1;32m----> 4\u001b[0m residuals \u001b[38;5;241m=\u001b[39m \u001b[43mtides\u001b[49m \u001b[38;5;241m-\u001b[39m fit_tides\n\u001b[0;32m      6\u001b[0m \u001b[38;5;66;03m#plotting histogram of residuals\u001b[39;00m\n\u001b[0;32m      7\u001b[0m plt\u001b[38;5;241m.\u001b[39mfigure(figsize \u001b[38;5;241m=\u001b[39m (\u001b[38;5;241m7\u001b[39m,\u001b[38;5;241m7\u001b[39m))\n",
      "\u001b[1;31mNameError\u001b[0m: name 'tides' is not defined"
     ]
    }
   ],
   "source": [
    "#Shaney did part 3 on 2/28/2024\n",
    "\n",
    "#getting residuals of tide data\n",
    "residuals = tides - fit_tides\n",
    "\n",
    "#plotting histogram of residuals\n",
    "plt.figure(figsize = (7,7))\n",
    "plt.hist(residuals,alpha=0.5,edgecolor=\"black\")\n",
    "plt.xlabel('Residuals')\n",
    "plt.ylabel('Frequency')\n",
    "plt.title(\"Histogram of Residuals\")\n",
    "plt.savefig(\"residuals_histogram.pdf\",bbox_inches=\"tight\",dpi=400)\n",
    "\n",
    "intrinsic_scatter = np.std(residuals)\n",
    "print(f\"Standard deviation of residuals: {intrinsic_scatter}\")"
   ]
  },
  {
   "cell_type": "markdown",
   "id": "e44b3ede-88d2-4e61-93d9-a9e1559aa766",
   "metadata": {},
   "source": [
    "The standard deviation/intrinsic scatter of our data is 0.68 ft. The scatter in the data is larger than the assumed experimental error of 0.25 ft."
   ]
  },
  {
   "cell_type": "code",
   "execution_count": 3,
   "id": "d079fd87-9f49-464f-936a-b92911f22da4",
   "metadata": {},
   "outputs": [
    {
     "ename": "NameError",
     "evalue": "name 'tides' is not defined",
     "output_type": "error",
     "traceback": [
      "\u001b[1;31m---------------------------------------------------------------------------\u001b[0m",
      "\u001b[1;31mNameError\u001b[0m                                 Traceback (most recent call last)",
      "Cell \u001b[1;32mIn[3], line 3\u001b[0m\n\u001b[0;32m      1\u001b[0m \u001b[38;5;66;03m#Nirali did part 4\u001b[39;00m\n\u001b[0;32m      2\u001b[0m \u001b[38;5;66;03m#getting residuals of tide data\u001b[39;00m\n\u001b[1;32m----> 3\u001b[0m residuals \u001b[38;5;241m=\u001b[39m \u001b[43mtides\u001b[49m \u001b[38;5;241m-\u001b[39m fit_tides\n\u001b[0;32m      4\u001b[0m residuals \u001b[38;5;241m=\u001b[39m residuals, (np\u001b[38;5;241m.\u001b[39mmax(tides)\u001b[38;5;241m+\u001b[39m\u001b[38;5;241m2\u001b[39m)\u001b[38;5;241m-\u001b[39mnp\u001b[38;5;241m.\u001b[39mmax(fit_tides)\n\u001b[0;32m      6\u001b[0m \u001b[38;5;66;03m#plotting histogram of residuals\u001b[39;00m\n",
      "\u001b[1;31mNameError\u001b[0m: name 'tides' is not defined"
     ]
    }
   ],
   "source": [
    "#Nirali did part 4\n",
    "#getting residuals of tide data\n",
    "residuals = tides - fit_tides\n",
    "residuals = residuals, (np.max(tides)+2)-np.max(fit_tides)\n",
    "\n",
    "#plotting histogram of residuals\n",
    "plt.figure(figsize = (7,7))\n",
    "plt.hist(residuals[:-1],alpha=0.5,edgecolor=\"black\")\n",
    "plt.xlabel('Residuals')\n",
    "plt.ylabel('Frequency')\n",
    "plt.title(\"Histogram of Residuals With Outlier\")\n",
    "\n",
    "plt.hist(residuals[-1],alpha=0.5,color=\"orange\",edgecolor=\"black\")\n",
    "\n",
    "plt.savefig(\"residuals_histogram_outlier.pdf\",bbox_inches=\"tight\",dpi=400)\n",
    "\n",
    "\n",
    "res_std = np.std(residuals[:-1])\n",
    "tsu = residuals[-1]\n",
    "res_mean = np.mean(residuals[:-1])\n",
    "print(f\"Standard deviation of tsunami residuals: {(tsu - res_mean)/res_std}\")"
   ]
  },
  {
   "cell_type": "code",
   "execution_count": null,
   "id": "296a5ddf-35af-478b-b69e-6feebc77ff9a",
   "metadata": {},
   "outputs": [],
   "source": []
  }
 ],
 "metadata": {
  "kernelspec": {
   "display_name": "Python 3 (ipykernel)",
   "language": "python",
   "name": "python3"
  },
  "language_info": {
   "codemirror_mode": {
    "name": "ipython",
    "version": 3
   },
   "file_extension": ".py",
   "mimetype": "text/x-python",
   "name": "python",
   "nbconvert_exporter": "python",
   "pygments_lexer": "ipython3",
   "version": "3.12.1"
  }
 },
 "nbformat": 4,
 "nbformat_minor": 5
}
